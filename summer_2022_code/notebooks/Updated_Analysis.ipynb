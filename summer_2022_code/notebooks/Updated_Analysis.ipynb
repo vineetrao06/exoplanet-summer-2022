{
 "cells": [
  {
   "cell_type": "markdown",
   "id": "eeb8a09d",
   "metadata": {},
   "source": [
    "# Analysis of Stellar and Exoplanetary Attributes to Discover Feasibility of Carbon-Based Life in Exoplanets \n",
    "## Brief Overview of Research and Methods\n",
    "\n",
    "The purpose of our research was to analyze the exoplanets in the NASA Exoplanet Archive and determine their habitability by determining the circumstellar habitable zone (CHZ) of their host stars. We calculated each exoplanets’ host star’s bolometric luminosity to determine the inner and outer bounds of its CHZ and see if the exoplanet was within it.  We believed that we would find at least one habitable exoplanet, and we hypothesized that all of the exoplanets we found to be habitable would have an eccentricity less than or equal to 0.4 and that their host stars would have surface temperatures less than or equal to 7500 K. We then analyzed several characteristics of these habitable exoplanets using histograms to try to ascertain what qualities of an exoplanet favor habitability, and whether or not these qualities supported our hypothesis.  "
   ]
  },
  {
   "cell_type": "markdown",
   "id": "705195b7",
   "metadata": {},
   "source": [
    "## Importing the Dataset and Packages"
   ]
  },
  {
   "cell_type": "code",
   "execution_count": 2,
   "id": "4140cfa0",
   "metadata": {},
   "outputs": [],
   "source": [
    "import pandas as pd\n",
    "import numpy as np\n",
    "import csv\n",
    "import matplotlib.pyplot as plt\n",
    "\n",
    "pd.options.mode.chained_assignment = None  # default='warn'\n",
    "\n",
    "df = pd.read_csv('dataset.csv', low_memory=False)\n",
    "\n",
    "# Saving for later, when we will get to the deduplication process\n",
    "planet_names = df[\"pl_name\"]\n",
    "\n",
    "controv_flags_col = df['pl_controv_flag']"
   ]
  },
  {
   "cell_type": "markdown",
   "id": "5dff0ee1",
   "metadata": {},
   "source": [
    "## Filtering Process"
   ]
  },
  {
   "cell_type": "markdown",
   "id": "c9bd496e",
   "metadata": {},
   "source": [
    "Our filtering process consisted of two steps: the removal of exoplanets with a controversial flag of 1 and the removal of duplicate entries. "
   ]
  },
  {
   "cell_type": "markdown",
   "id": "bd631449",
   "metadata": {},
   "source": [
    "### Removal of Controversial Flags\n"
   ]
  },
  {
   "cell_type": "markdown",
   "id": "b23f408d",
   "metadata": {},
   "source": [
    "Exoplanets with a controversial flag of 1 have a questioned existence. We thus transformed the dataset into a Pandas dataframe and then used the “loc” method in Pandas to remove all entries with a controversial of 1. By doing this, we have ensured that our data is accurate with a confirmed existence among all exoplanets."
   ]
  },
  {
   "cell_type": "code",
   "execution_count": 3,
   "id": "96e13d10",
   "metadata": {},
   "outputs": [],
   "source": [
    "df = df.loc[controv_flags_col != 1]\n",
    "df.reset_index(drop=True, inplace=True)"
   ]
  },
  {
   "cell_type": "markdown",
   "id": "5aac8e4d",
   "metadata": {},
   "source": [
    "### Deduplication"
   ]
  },
  {
   "cell_type": "markdown",
   "id": "bbd9d8e7",
   "metadata": {},
   "source": [
    "The NASA Exoplanet Archive has over 35,000 entries as of August 2022, but this includes duplicate entries for exoplanets. To eliminate the duplicate entries, we arranged all of the entries in ascending order based on the publication date of each planet. We intended on only keeping the last occurrence of a particular exoplanet, since it corresponded to the entry with the most recent publication date and thus the most accurate information about the exoplanet.  "
   ]
  },
  {
   "cell_type": "code",
   "execution_count": 4,
   "id": "c5e6869d",
   "metadata": {},
   "outputs": [
    {
     "data": {
      "text/plain": [
       "TrES-2 b                 31\n",
       "GJ 436 b                 21\n",
       "HAT-P-7 b                20\n",
       "KOI-13 b                 19\n",
       "HD 209458 b              19\n",
       "                         ..\n",
       "K2-290 b                  1\n",
       "K2-290 c                  1\n",
       "OGLE-2013-BLG-0132L b     1\n",
       "K2-292 b                  1\n",
       "Kepler-56 d               1\n",
       "Name: pl_name, Length: 5071, dtype: int64"
      ]
     },
     "execution_count": 4,
     "metadata": {},
     "output_type": "execute_result"
    }
   ],
   "source": [
    "duplicate_count = planet_names.value_counts()\n",
    "duplicate_count"
   ]
  },
  {
   "cell_type": "code",
   "execution_count": 5,
   "id": "56c32491",
   "metadata": {},
   "outputs": [],
   "source": [
    "df = df.sort_values('disc_pubdate', ascending=True)\n",
    "\n",
    "df = df.drop_duplicates(subset=['pl_name'], keep='last')\n",
    "\n",
    "df.reset_index(drop=True, inplace=True)"
   ]
  },
  {
   "cell_type": "markdown",
   "id": "60880a75",
   "metadata": {},
   "source": [
    "## CHZ Process"
   ]
  },
  {
   "cell_type": "markdown",
   "id": "660b9f61",
   "metadata": {},
   "source": [
    "The goal of the CHZ process was to ultimately determine which exoplanets lied within the CHZ of their host star. Throughout the process, we considered several attributes as detailed below.  The bolometric luminosity was the core of these calculations, as it was necessary to determine the inner and outer bounds of the CHZ. "
   ]
  },
  {
   "cell_type": "markdown",
   "id": "f35aac65",
   "metadata": {},
   "source": [
    "### Standard Stellar Luminosity and Visual Absolute Magnitude"
   ]
  },
  {
   "cell_type": "markdown",
   "id": "97cf4530",
   "metadata": {},
   "source": [
    "The first step was to determine each host star's visual absolute magnitude from its standard luminosity. The visual absolute magnitude was needed to calculate the bolometric magnitude, which could then be used to determine the bolometric luminosity. "
   ]
  },
  {
   "cell_type": "code",
   "execution_count": 6,
   "id": "f48364f0",
   "metadata": {},
   "outputs": [],
   "source": [
    "for i in range(0, len(df)):\n",
    "\n",
    "    # The values for luminosity in the dataset are represented as logs, so\n",
    "    # if there is a value, the actual luminosity (in solar luminosities)\n",
    "    # is 10 to the power of that value\n",
    "\n",
    "    if pd.notna(df['st_lum'][i]):\n",
    "        df['st_lum'][i] = 10**(df['st_lum'][i])\n",
    "\n",
    "    # If there's not a luminosity value, but there are stellar radius and\n",
    "    # temperature values, the luminosity can be calculated using the\n",
    "    # Stefan-Boltzmann law, with all untis in terms of the Sun's physical\n",
    "    # parameters (the Sun's temperature is 5778 K and the stellar radius is\n",
    "    # already in terms of the Sun's radius)\n",
    "\n",
    "    if ((pd.isna(df['st_lum'][i])) & ((pd.notna(df['st_teff'][i])) & (pd.notna(df['st_rad'][i])))):\n",
    "        df['st_lum'][i] = (df['st_rad'][i]**2) * ((df['st_teff'][i]/5778)**4)\n",
    "\n",
    "    # Otherwise, at least the luminosity and at least one of the stellar radius\n",
    "    # and stellar temperature are missing, so it is impossible to calculate\n",
    "    # the star's luminosity\n",
    "\n",
    "    else:\n",
    "        pass\n",
    "\n",
    "# After the luminosity calculations have been performed,\n",
    "# planets with no values for their star's luminosity must be removed\n",
    "\n",
    "df = df.loc[pd.notna(df['st_lum'])]\n",
    "\n",
    "df.reset_index(drop=True, inplace=True)\n",
    "\n",
    "# Creating a new column for absolute magnitude, based on the relation\n",
    "# between absolute magnitude and luminosity (see Equation 2 in paper)\n",
    "\n",
    "df['st_abs_mag'] = 4.83 + (-2.5*np.log10(df['st_lum']))"
   ]
  },
  {
   "cell_type": "markdown",
   "id": "580bebd1",
   "metadata": {},
   "source": [
    "### Calculation of Bolometric Magnitude and Bolometric Luminosity"
   ]
  },
  {
   "cell_type": "markdown",
   "id": "a1fadc0c",
   "metadata": {},
   "source": [
    "The inner and outer bounds of the CHZ depend on the bolometric luminosity, not just standard stellar luminosity. Bolometric luminosity is a star’s luminosity across all wavelengths, as opposed to a star’s luminosity when viewed in a particular band. The definition for bolometric magnitude follows similarly. The absolute magnitude of each star determined above was the visual absolute magnitude. To determine the bolometric magnitude and then the bolometric luminosity, a bolometric correction must be added to the visual absolute magnitude. The bolometric correction depends on a star’s spectral class (or temperature). Once we determined the bolometric magnitude for each host star, we were able to calculate the bolometric luminosity of each host star using Equation 4 in the paper. "
   ]
  },
  {
   "cell_type": "code",
   "execution_count": 7,
   "id": "1bb1561f",
   "metadata": {},
   "outputs": [],
   "source": [
    "df['st_spectype'] = df['st_spectype'].astype(str)\n",
    "\n",
    "df['bol_mag'] = 0\n",
    "\n",
    "# The for loop below adds a bolometric magnitude for the host star of each planet\n",
    "# BC is the bolometric correction, which is used to convert from absolute magnitude\n",
    "# (st_abs_mag) to bolometric magnitude\n",
    "\n",
    "for i in range(0, len(df)):\n",
    "    BC = 0\n",
    "    if (df['st_teff'][i] >= 2400 and df['st_teff'][i] <= 3700) or df['st_spectype'][i][0] == 'M':\n",
    "        BC = -2.0\n",
    "    elif (df['st_teff'][i] >= 3700 and df['st_teff'][i] <= 5200) or df['st_spectype'][i][0] == 'K':\n",
    "        BC = -0.8\n",
    "    elif (df['st_teff'][i] >= 5200 and df['st_teff'][i] <= 6000) or df['st_spectype'][i][0] == 'G':\n",
    "        BC = -0.4\n",
    "    elif (df['st_teff'][i] >= 6000 and df['st_teff'][i] <= 7500) or df['st_spectype'][i][0] == 'F':\n",
    "        BC = -0.15\n",
    "    elif (df['st_teff'][i] >= 7500 and df['st_teff'][i] <= 10000) or df['st_spectype'][i][0] == 'A':\n",
    "        BC = -0.3\n",
    "    elif (df['st_teff'][i] >= 10000 and df['st_teff'][i] <= 30000) or df['st_spectype'][i][0] == 'B':\n",
    "        BC = -2.0\n",
    "    df['bol_mag'][i] = df['st_abs_mag'][i] + BC\n",
    "\n",
    "# Creating a new column for BOLOMETRIC luminosity, based on BOLOMETRIC Magnitude\n",
    "# (This is different from st_lum and st_abs_mag)\n",
    "# The bolometric luminosity must be used for the CHZ calculations\n",
    "\n",
    "df['bol_lum'] = 10**((df['bol_mag']-4.74)/-2.5)"
   ]
  },
  {
   "cell_type": "markdown",
   "id": "3841364d",
   "metadata": {},
   "source": [
    "### Determining Habitability"
   ]
  },
  {
   "cell_type": "markdown",
   "id": "0d20075e",
   "metadata": {},
   "source": [
    "The inner and outer bounds of the CHZ of each host star could now be determined using bolometric luminosity, as seen in Equations 5 and 6 in the paper. "
   ]
  },
  {
   "cell_type": "code",
   "execution_count": 8,
   "id": "55ecda92",
   "metadata": {},
   "outputs": [
    {
     "name": "stdout",
     "output_type": "stream",
     "text": [
      "['BD-06 1339 c', 'GJ 3293 c', 'GJ 3323 c', 'HD 10180 g', 'HD 103891 b', 'HD 10442 b', 'HD 10697 b', 'HD 109286 b', 'HD 125612 b', 'HD 128356 b', 'HD 132406 b', 'HD 137388 b', 'HD 13908 c', 'HD 141937 b', 'HD 142415 b', 'HD 147513 b', 'HD 159868 b', 'HD 1605 c', 'HD 16175 b', 'HD 165155 b', 'HD 17674 b', 'HD 18015 b', 'HD 181720 b', 'HD 190647 b', 'HD 213240 b', 'HD 214823 b', 'HD 219415 b', 'HD 221585 b', 'HD 222582 b', 'HD 27969 b', 'HD 34445 b', 'HD 43197 b', 'HD 564 b', 'HD 63765 b', 'HD 65216 b', 'HD 73534 b', 'HD 9174 b', 'HD 99109 b', 'KELT-6 c', 'Kapteyn c', 'Kepler-1318 b', 'Kepler-1593 b', 'Kepler-16 b', 'Kepler-1647 b', 'Kepler-1649 c', 'Kepler-167 e', 'Kepler-174 d', 'Kepler-421 b', 'Kepler-454 c', 'Kepler-47 c', 'Kepler-553 c', 'Kepler-62 f', 'WASP-41 c', 'WASP-47 c', 'Wolf 1061 d'] 55\n"
     ]
    }
   ],
   "source": [
    "# Defining the inner boundary of the CHZ (formula from Reference 12)\n",
    "\n",
    "df['inner_CHZ'] = np.sqrt(df['bol_lum']/1.1)\n",
    "\n",
    "# Defining the outer boundary of the CHZ (formula from Reference 12)\n",
    "\n",
    "df['outer_CHZ'] = np.sqrt(df['bol_lum']/0.53)\n",
    "\n",
    "# Creating a new column to determine if planets are habitable\n",
    "\n",
    "df['Habitable'] = None\n",
    "\n",
    "planets = []\n",
    "\n",
    "for i in range(0, len(df)):\n",
    "\n",
    "    # First if statement checks if there are values for the planet's\n",
    "    # semi-major axis and eccentricity\n",
    "\n",
    "    if ((pd.notna(df['pl_orbsmax'][i])) & (pd.notna(df['pl_orbeccen'][i]))):\n",
    "\n",
    "        # If the eccentricity is less than 0.2, the average distance from the planet\n",
    "        # to its star can be approximated by its semi-major axis\n",
    "        # If the average distance is in the CHZ range, we say the planet is\n",
    "        # habitable\n",
    "\n",
    "        if df['pl_orbeccen'][i] <= 0.2:\n",
    "            if ((df['pl_orbsmax'][i] >= df['inner_CHZ'][i]) & (df['pl_orbsmax'][i] <= df['outer_CHZ'][i])):\n",
    "                df['Habitable'][i] = 'Yes'\n",
    "                planets.append(df['pl_name'][i])\n",
    "            else:\n",
    "                df['Habitable'][i] = 'No'\n",
    "\n",
    "        # If the eccentricity is greater than 0.2, we must use a formula for\n",
    "        # the average distance and then check if this\n",
    "        # average distance is in the CHZ range\n",
    "\n",
    "        else:\n",
    "            avg_dist = df['pl_orbsmax'][i] * (1+((df['pl_orbeccen'][i]**2)/2))\n",
    "            if ((avg_dist >= df['inner_CHZ'][i]) & (avg_dist <= df['outer_CHZ'][i])):\n",
    "                df['Habitable'][i] = 'Yes'\n",
    "                planets.append(df['pl_name'][i])\n",
    "            else:\n",
    "                df['Habitable'][i] = 'No'\n",
    "\n",
    "    # If there is no value for the planet's semi-major axis, but there are values\n",
    "    # for its orbital period, eccentricity, and the star's mass, we can use\n",
    "    # Kepler's 3rd Law to calculate its semi-major axis, and then perform\n",
    "    # the eccentricity check again to determine the average orbiting distance\n",
    "    # and then determine if this average distance is in the CHZ\n",
    "\n",
    "    elif ((pd.isna(df['pl_orbsmax'][i])) & (pd.notna(df['pl_orbeccen'][i])) & (pd.notna(df['pl_orbper'][i])) & (pd.notna(df['st_mass'][i]))):\n",
    "\n",
    "        # Convering the orbital period from days to years\n",
    "\n",
    "        orb_per_year = df['pl_orbper'][i]/365\n",
    "\n",
    "        # Using Kepler's Third Law: T^2/a^3 = 1/M, with T in years, a in AU\n",
    "        # and M in solar masses, so a = cubert(T^2 * M)\n",
    "\n",
    "        df['pl_orbsmax'][i] = np.cbrt((orb_per_year**2)*df['st_mass'][i])\n",
    "\n",
    "        if df['pl_orbeccen'][i] <= 0.2:\n",
    "            if ((df['pl_orbsmax'][i] >= df['inner_CHZ'][i]) & (df['pl_orbsmax'][i] <= df['outer_CHZ'][i])):\n",
    "                df['Habitable'][i] = 'Yes'\n",
    "                planets.append(df['pl_name'][i])\n",
    "            else:\n",
    "                df['Habitable'][i] = 'No'\n",
    "\n",
    "        else:\n",
    "            avg_dist = df['pl_orbsmax'][i] * (1+((df['pl_orbeccen'][i]**2)/2))\n",
    "            if ((avg_dist >= df['inner_CHZ'][i]) & (avg_dist <= df['outer_CHZ'][i])):\n",
    "                df['Habitable'][i] = 'Yes'\n",
    "                planets.append(df['pl_name'][i])\n",
    "            else:\n",
    "                df['Habitable'][i] = 'No'\n",
    "\n",
    "    # Otherwise, there are too many values missing to determine if the planet\n",
    "    # is habitable. CND = Can Not Determine\n",
    "\n",
    "    else:\n",
    "        df['Habitable'][i] = 'CND'\n",
    "\n",
    "print(planets, len(planets))"
   ]
  },
  {
   "cell_type": "markdown",
   "id": "a524a2b0",
   "metadata": {},
   "source": [
    "## Visualizing Our Data\n"
   ]
  },
  {
   "cell_type": "markdown",
   "id": "15522b0a",
   "metadata": {},
   "source": [
    "### Percent of Controversial Flags"
   ]
  },
  {
   "cell_type": "code",
   "execution_count": 8,
   "id": "af5594a2",
   "metadata": {
    "scrolled": false
   },
   "outputs": [
    {
     "data": {
      "image/png": "[encoded data removed]",
      "text/plain": [
       "<Figure size 720x720 with 1 Axes>"
      ]
     },
     "metadata": {},
     "output_type": "display_data"
    }
   ],
   "source": [
    "num_pl_flag_0 = controv_flags_col.value_counts()[0]\n",
    "num_pl_flag_1 = controv_flags_col.value_counts()[1]\n",
    "\n",
    "nums = [num_pl_flag_0, num_pl_flag_1]\n",
    "labels = [\"Flag of 0\", \"Flag of 1\"]\n",
    "\n",
    "explode = (0.1, 0)\n",
    "\n",
    "fig, ax = plt.subplots(figsize=(10,10))\n",
    "ax.pie(nums, labels=labels,autopct='%1.2f%%',explode=explode, pctdistance=1.1, labeldistance=1.3)\n",
    "plt.title('Percent of Controversial Flags in NASA Exoplanet Archive',size=20)\n",
    "plt.show()"
   ]
  },
  {
   "cell_type": "markdown",
   "id": "dd54b16a",
   "metadata": {},
   "source": [
    "### Duplicate Values"
   ]
  },
  {
   "cell_type": "code",
   "execution_count": 21,
   "id": "17a09bb5",
   "metadata": {},
   "outputs": [
    {
     "data": {
      "image/png": "[encoded data removed]",
      "text/plain": [
       "<Figure size 432x288 with 1 Axes>"
      ]
     },
     "metadata": {},
     "output_type": "display_data"
    }
   ],
   "source": [
    "num_duplicates = planet_names.duplicated().sum()\n",
    "total_planets = len(planet_names)\n",
    "num_not_duplicated = total_planets - num_duplicates\n",
    "\n",
    "labels = ['Duplicates', 'Not Duplicates']\n",
    "pcnt_duplicates = num_duplicates / total_planets\n",
    "pcnt_non_duplicates = num_not_duplicated / total_planets\n",
    "\n",
    "sizes = [pcnt_duplicates, pcnt_non_duplicates]\n",
    "explode = (0.1, 0)\n",
    "fig1, ax1 = plt.subplots()\n",
    "\n",
    "ax1.pie(sizes, labels=labels, explode=explode, autopct='%1.1f%%',\n",
    "        shadow=True, startangle=90)\n",
    "ax1.axis('equal')  # Equal aspect ratio ensures that pie is drawn as a circle.\n",
    "\n",
    "plt.title('Duplicates in NASA Exoplanet Archive',size=20)\n",
    "\n",
    "plt.show()"
   ]
  },
  {
   "cell_type": "markdown",
   "id": "8dc842f3",
   "metadata": {},
   "source": [
    "### Pie Chart of Habitability"
   ]
  },
  {
   "cell_type": "code",
   "execution_count": 12,
   "id": "1a413510",
   "metadata": {},
   "outputs": [
    {
     "data": {
      "image/png": "[encoded data removed]",
      "text/plain": [
       "<Figure size 360x360 with 1 Axes>"
      ]
     },
     "metadata": {},
     "output_type": "display_data"
    }
   ],
   "source": [
    "nums = [61, 2417, 2552]\n",
    "labels = ['Habitable', 'Not Habitable', 'CND']\n",
    "explode=[0.4,0,0]\n",
    "fig, ax = plt.subplots(figsize=(5, 5))\n",
    "ax.pie(nums, labels=labels,autopct='%1.2f%%',pctdistance=0.9,explode=explode)\n",
    "plt.title('Habitability of Exoplanets in NASA Exoplanet Archive',size=20)\n",
    "plt.show()"
   ]
  },
  {
   "cell_type": "code",
   "execution_count": 9,
   "id": "89b12eed",
   "metadata": {},
   "outputs": [],
   "source": [
    "df2 = df.loc[df['Habitable']=='Yes']"
   ]
  },
  {
   "cell_type": "markdown",
   "id": "df5b572c",
   "metadata": {},
   "source": [
    "### Histogram of Eccentricity Values of Habitable Exoplanets"
   ]
  },
  {
   "cell_type": "code",
   "execution_count": 20,
   "id": "5dd8d493",
   "metadata": {},
   "outputs": [
    {
     "data": {
      "image/png": "[encoded data removed]",
      "text/plain": [
       "<Figure size 576x216 with 1 Axes>"
      ]
     },
     "metadata": {
      "needs_background": "light"
     },
     "output_type": "display_data"
    }
   ],
   "source": [
    "bins = np.linspace(0,1,11)\n",
    "plt.figure(figsize=(8,3))\n",
    "plt.hist(df2['pl_orbeccen'],bins=bins,ec='black')\n",
    "plt.xticks(ticks=bins)\n",
    "plt.title('Eccentricity Values of Habitable Exoplanets',size=20)\n",
    "plt.xlabel('Eccentricity')\n",
    "plt.ylabel('Frequency')\n",
    "plt.show()"
   ]
  },
  {
   "cell_type": "markdown",
   "id": "1ec70ec3",
   "metadata": {},
   "source": [
    "### Histogram of Semi-Major Axis Values of Habitable Exoplanets"
   ]
  },
  {
   "cell_type": "code",
   "execution_count": 22,
   "id": "0ca2748b",
   "metadata": {
    "scrolled": true
   },
   "outputs": [
    {
     "data": {
      "image/png": "[encoded data removed]",
      "text/plain": [
       "<Figure size 576x216 with 1 Axes>"
      ]
     },
     "metadata": {
      "needs_background": "light"
     },
     "output_type": "display_data"
    }
   ],
   "source": [
    "plt.figure(figsize=(8,3))\n",
    "bins=np.linspace(0,7,8)\n",
    "plt.hist(df2['pl_orbsmax'],bins=bins,ec='black')\n",
    "plt.title('Semi-Major Axis Values of Habitable Exoplanets',size=20)\n",
    "plt.xticks(bins)\n",
    "plt.yticks(np.arange(0,20,2))\n",
    "plt.xlabel('Semi-Major Axis (AU)')\n",
    "plt.ylabel('Frequency')\n",
    "plt.show()"
   ]
  },
  {
   "cell_type": "markdown",
   "id": "1ace16ef",
   "metadata": {},
   "source": [
    "### Histogram of Host Star Temperature Values of Habitable Exoplanets"
   ]
  },
  {
   "cell_type": "code",
   "execution_count": 23,
   "id": "9f3b9133",
   "metadata": {},
   "outputs": [
    {
     "data": {
      "image/png": "[encoded data removed]",
      "text/plain": [
       "<Figure size 1008x360 with 1 Axes>"
      ]
     },
     "metadata": {
      "needs_background": "light"
     },
     "output_type": "display_data"
    }
   ],
   "source": [
    "plt.figure(figsize=(14,5))\n",
    "bins=np.linspace(2000,6500,19)\n",
    "plt.hist(df2['st_teff'],ec='black',bins=bins)\n",
    "plt.xticks(bins)\n",
    "plt.xlabel('Host Star Temperature (K)')\n",
    "plt.ylabel('Frequency')\n",
    "plt.title('Host Star Temperature Values of Habitable Exoplanets',size=20)\n",
    "plt.show()"
   ]
  },
  {
   "cell_type": "markdown",
   "id": "9171623e",
   "metadata": {},
   "source": [
    "## Comparing Our Data to the PHL"
   ]
  },
  {
   "cell_type": "code",
   "execution_count": 12,
   "id": "b01e4f0a",
   "metadata": {},
   "outputs": [
    {
     "name": "stdout",
     "output_type": "stream",
     "text": [
      "0      BD-06 1339 c\n",
      "1         GJ 3293 c\n",
      "2         GJ 3323 c\n",
      "3        HD 10180 g\n",
      "4       HD 103891 b\n",
      "5        HD 10442 b\n",
      "6        HD 10697 b\n",
      "7       HD 109286 b\n",
      "8       HD 125612 b\n",
      "9       HD 128356 b\n",
      "10      HD 132406 b\n",
      "11      HD 137388 b\n",
      "12       HD 13908 c\n",
      "13      HD 141937 b\n",
      "14      HD 142415 b\n",
      "15      HD 147513 b\n",
      "16      HD 159868 b\n",
      "17        HD 1605 c\n",
      "18       HD 16175 b\n",
      "19      HD 165155 b\n",
      "20       HD 17674 b\n",
      "21       HD 18015 b\n",
      "22      HD 181720 b\n",
      "23      HD 190647 b\n",
      "24      HD 213240 b\n",
      "25      HD 214823 b\n",
      "26      HD 219415 b\n",
      "27      HD 221585 b\n",
      "28      HD 222582 b\n",
      "29       HD 27969 b\n",
      "30       HD 34445 b\n",
      "31       HD 43197 b\n",
      "32         HD 564 b\n",
      "33       HD 63765 b\n",
      "34       HD 65216 b\n",
      "35       HD 73534 b\n",
      "36        HD 9174 b\n",
      "37       HD 99109 b\n",
      "38         KELT-6 c\n",
      "39        Kapteyn c\n",
      "40    Kepler-1318 b\n",
      "41    Kepler-1593 b\n",
      "42      Kepler-16 b\n",
      "43    Kepler-1647 b\n",
      "44    Kepler-1649 c\n",
      "45     Kepler-167 e\n",
      "46     Kepler-174 d\n",
      "47     Kepler-421 b\n",
      "48     Kepler-454 c\n",
      "49      Kepler-47 c\n",
      "50     Kepler-553 c\n",
      "51      Kepler-62 f\n",
      "52        WASP-41 c\n",
      "53        WASP-47 c\n",
      "54      Wolf 1061 d\n",
      "Name: pl_name, dtype: object\n",
      "0     Teegarden's Star b\n",
      "1              TOI-700 d\n",
      "2                K2-72 e\n",
      "3           TRAPPIST-1 d\n",
      "4          Kepler-1649 c\n",
      "5          Proxima Cen b\n",
      "6              GJ 1061 d\n",
      "7              GJ 1061 c\n",
      "8             Ross 128 b\n",
      "9               GJ 273 b\n",
      "10          TRAPPIST-1 e\n",
      "11          Kepler-442 b\n",
      "12           Wolf 1061 c\n",
      "13            GJ 667 C c\n",
      "14            GJ 667 C f\n",
      "15         Kepler-1229 b\n",
      "16          TRAPPIST-1 f\n",
      "17           Kepler-62 f\n",
      "18    Teegarden's Star c\n",
      "19          Kepler-186 f\n",
      "20            GJ 667 C e\n",
      "21             tau Cet f\n",
      "22          TRAPPIST-1 g\n",
      "23              GJ 682 b\n",
      "24          Kepler-452 b\n",
      "25           Kepler-62 e\n",
      "26         Kepler-1652 b\n",
      "27         Kepler-1544 b\n",
      "28          Kepler-296 e\n",
      "29          Kepler-283 c\n",
      "30         Kepler-1410 b\n",
      "31                K2-3 d\n",
      "32         Kepler-1638 b\n",
      "33          Kepler-296 f\n",
      "34          Kepler-440 b\n",
      "35          Kepler-705 b\n",
      "36         Kepler-1653 b\n",
      "37              GJ 832 c\n",
      "38         Kepler-1606 b\n",
      "39         Kepler-1090 b\n",
      "40           Kepler-61 b\n",
      "41               K2-18 b\n",
      "42          Kepler-443 b\n",
      "43         Kepler-1701 b\n",
      "44           Kepler-22 b\n",
      "45            LHS 1140 b\n",
      "46         Kepler-1552 b\n",
      "47                K2-9 b\n",
      "48         Kepler-1540 b\n",
      "49              GJ 180 c\n",
      "50         Kepler-1632 b\n",
      "51          Kepler-298 d\n",
      "52              GJ 163 c\n",
      "53            HD 40307 g\n",
      "54            K2-288 B b\n",
      "55             GJ 3293 d\n",
      "56            GJ 229 A c\n",
      "57          Kepler-174 d\n",
      "58              GJ 357 d\n",
      "Name: pl_name, dtype: object\n",
      "['Kepler-1649 c', 'Kepler-174 d', 'Kepler-62 f'] 3\n"
     ]
    }
   ],
   "source": [
    "our_planets = pd.read_csv('habitable-planets.csv')\n",
    "phl_planets = pd.read_csv('PHL-dataset-simplified.csv')\n",
    "\n",
    "our_planets = our_planets['pl_name']\n",
    "phl_planets = phl_planets['pl_name']\n",
    "\n",
    "print(our_planets)\n",
    "print(phl_planets)\n",
    "\n",
    "similar_planets = []\n",
    "\n",
    "for our_planet in our_planets:\n",
    "    for phl_planet in phl_planets:\n",
    "        if our_planet == phl_planet:\n",
    "            similar_planets.append(our_planet)\n",
    "\n",
    "print(similar_planets,len(similar_planets))"
   ]
  },
  {
   "cell_type": "markdown",
   "id": "9707c5a6",
   "metadata": {},
   "source": [
    "## Exporting Our Data"
   ]
  },
  {
   "cell_type": "code",
   "execution_count": 25,
   "id": "dd6bb429",
   "metadata": {},
   "outputs": [
    {
     "name": "stdout",
     "output_type": "stream",
     "text": [
      "BD-06 1339 c\n",
      "GJ 3293 c\n",
      "GJ 3323 c\n",
      "HD 10180 g\n",
      "HD 103891 b\n",
      "HD 10442 b\n",
      "HD 10697 b\n",
      "HD 109286 b\n",
      "HD 125612 b\n",
      "HD 128356 b\n",
      "HD 132406 b\n",
      "HD 137388 b\n",
      "HD 13908 c\n",
      "HD 141937 b\n",
      "HD 142415 b\n",
      "HD 147513 b\n",
      "HD 159868 b\n",
      "HD 1605 c\n",
      "HD 16175 b\n",
      "HD 165155 b\n",
      "HD 17674 b\n",
      "HD 18015 b\n",
      "HD 181720 b\n",
      "HD 190647 b\n",
      "HD 213240 b\n",
      "HD 214823 b\n",
      "HD 219415 b\n",
      "HD 221585 b\n",
      "HD 222582 b\n",
      "HD 27969 b\n",
      "HD 34445 b\n",
      "HD 43197 b\n",
      "HD 564 b\n",
      "HD 63765 b\n",
      "HD 65216 b\n",
      "HD 73534 b\n",
      "HD 9174 b\n",
      "HD 99109 b\n",
      "KELT-6 c\n",
      "Kapteyn c\n",
      "Kepler-1318 b\n",
      "Kepler-1593 b\n",
      "Kepler-16 b\n",
      "Kepler-1647 b\n",
      "Kepler-1649 c\n",
      "Kepler-167 e\n",
      "Kepler-174 d\n",
      "Kepler-421 b\n",
      "Kepler-454 c\n",
      "Kepler-47 c\n",
      "Kepler-553 c\n",
      "Kepler-62 f\n",
      "WASP-41 c\n",
      "WASP-47 c\n",
      "Wolf 1061 d\n"
     ]
    }
   ],
   "source": [
    "for planet in planets:\n",
    "    print(planet)\n",
    "\n",
    "with open('habitable-planets.csv', 'w', newline='') as csvfile:\n",
    "    fieldnames = ['number', 'pl_name']\n",
    "    planet_count = 0\n",
    "\n",
    "    writer = csv.DictWriter(csvfile, fieldnames=fieldnames)\n",
    "    writer.writeheader()\n",
    "\n",
    "    for planet in planets:\n",
    "        planet_count += 1\n",
    "        writer.writerow({'number': planet_count, 'pl_name': planet})"
   ]
  }
 ],
 "metadata": {
  "kernelspec": {
   "display_name": "Python 3 (ipykernel)",
   "language": "python",
   "name": "python3"
  },
  "language_info": {
   "codemirror_mode": {
    "name": "ipython",
    "version": 3
   },
   "file_extension": ".py",
   "mimetype": "text/x-python",
   "name": "python",
   "nbconvert_exporter": "python",
   "pygments_lexer": "ipython3",
   "version": "3.9.12"
  },
  "vscode": {
   "interpreter": {
    "hash": "d688df3862cb7e85a9e692ebc641fab133609ea0665f4b4b1480645ecc056e29"
   }
  }
 },
 "nbformat": 4,
 "nbformat_minor": 5
}
