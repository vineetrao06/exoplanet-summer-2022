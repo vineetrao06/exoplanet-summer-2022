{
 "cells": [
  {
   "cell_type": "markdown",
   "id": "eeb8a09d",
   "metadata": {},
   "source": [
    "# Exoplanet Summer 2022\n",
    "## Abstract\n",
    "The search for habitable exoplanets has been the purpose for our research this semester. Considering that there are thousands of exoplanets in the universe, we believe that there must be at least one that possesses the characteristics needed to support basic life - the capability to hold liquid water. The most important question, therefore, is: can a given exoplanet support liquid or molecular water? Whether or not this is possible depends on a multitude of characteristics unique to each exoplanet, including planetary radius, orbital period, stellar radius, and planetary mass, which work together to create an environment capable of life. The purpose of our research in Summer 2022 was to unravel this “mystery” by looking at data values from the NASA Exoplanet Archive (Planetary Systems Dataset). We started with a Python program to find and remove duplicate entries in the NASA Exoplanet Archives. We then analyzed multiple planetary and stellar data values through the analysis of luminosity and absolute magnitude to filter out a list for us to take a deep dive into. Subsequently, we conducted statistical calculations for further analysis. Further efforts were made by applying Albedo and Circumstellar Habitable Zone (CHZ) data to the analysis of the habitability of an exoplanet. In the end, we formulated a list of ten exoplanets that we believe to be capable of supporting life.\n",
    "\n",
    "## Background\n",
    "The purpose behind our search for exoplanets is to reveal the possibilities of life beyond earth. We have always looked at the cosmos as a dark and inhabitable vacuum, but the chances of Earth being the only planet with life in this universe are slim. All creatures look up to the sky, but the ability to question what is there is what makes the human species different from others. And the ability to persevere to answer this question has gotten us where we are. So far, we have been able to prove that Mars has very similar characteristics to Earth through robotic missions, and we are continuing to make new discoveries not only about Mars's geological history, but how we evolved as well. This knowledge will only be furthered by expanding beyond our solar system. Ever since the first ever exoplanet was discovered in 1992, there have been over 35,000 more exoplanets that have been confirmed to be present outside our solar system. We will deepen our understanding of our purpose as a planet, and be able to realize how significant we are. There are other benefits as well, such as the infinite resources space has to offer, and the reassurance that we can become an interplanetary species, but in this paper, we simply focus on addressing the first challenge: detecting exoplanets. \n",
    "\n",
    "## Search for habitability\n",
    "During the hunt for potentially habitable exoplanets, we looked through the NASA Exoplanet Archive, searching for the qualities that would determine if a specific planet could be inhabited by humans. Since our goal was to identify exoplanets that can support life, we considered how to best succeed at this objective. We learned that the simplest method of beginning to check if a planet could support life is to find out whether or not the said planet can hold liquid water. This is because water, in its liquid form, has a number of characteristics that make it necessary for life. It can cause adhesion and cohesion, can dissolve more substances than any other liquid, and is able to withstand large changes in temperature. Although no dataset contains information about liquid water itself, we utilized various techniques to discover more about the exoplanets and their capability to sustain the “universal solvent.” One of these methods is deduping the dataset; this involves removing the duplicates of each planet with multiple entries in the set and thus making the data clearer. Another useful technique is Keplerian Mechanics, in which we define a certain planet to be habitable if other celestial bodies that are similar to the exoplanet in question (e.g. Earth and K2-18 b) are. The most important method we implemented this Fall is the five-number summary. Including statistics in our research greatly increased our productivity. Additionally, we tried to use other methods such as habitable zone calculations and albedo. Our result was a list of ten exoplanets whose characteristics matched those of Earth and K2-18 b."
   ]
  },
  {
   "cell_type": "markdown",
   "id": "5dff0ee1",
   "metadata": {},
   "source": [
    "## Elimination Process"
   ]
  },
  {
   "cell_type": "markdown",
   "id": "a722d6cd",
   "metadata": {},
   "source": [
    "In our Elimination process, we have two different type of analysis: removal of duplicate entries and the elimination of planets with controversial flags of 1. "
   ]
  },
  {
   "cell_type": "markdown",
   "id": "5aac8e4d",
   "metadata": {},
   "source": [
    "### Deduplication"
   ]
  },
  {
   "cell_type": "markdown",
   "id": "bbd9d8e7",
   "metadata": {},
   "source": [
    "The NASA Exoplanet Archive has over 35,000 entries as of July 2022, consisting of duplicate values for the majority of planets listed. Thus, to eliminate the various duplicate entries, we initially read the dataset as a Pandas dataframe via the Pandas module in Python. After, we arranged all the entries based on the publication date of each planet in ascending order - which can be denoted as disc_pubdate. The sorting of data was crucial to preserving the most recent and accurate finding for each exoplanet, as we only intend on keeping the last occurrence of a particular exoplanet, since it is assumed to be the most up-to-date. The removal of duplicate entries in NASA’s Exoplanet Archive successfully narrows down 35,000 entries to simply 5,055 exoplanets. Thus, it yields an elimination of almost 30,000 planets standalone - making it a vital process when performing our analysis. \n"
   ]
  },
  {
   "cell_type": "code",
   "execution_count": 1,
   "id": "b77162c9",
   "metadata": {},
   "outputs": [],
   "source": [
    "import pandas as pd\n",
    "import numpy as np\n",
    "import csv\n",
    "import matplotlib.pyplot as plt\n",
    "\n",
    "df = pd.read_csv('../data/dataset.csv', low_memory=False)"
   ]
  },
  {
   "cell_type": "code",
   "execution_count": 2,
   "id": "ad2a4f57",
   "metadata": {},
   "outputs": [],
   "source": [
    "# Saving for later, where we will get duplicate values\n",
    "planet_names = df[\"pl_name\"]"
   ]
  },
  {
   "cell_type": "code",
   "execution_count": 3,
   "id": "c5e6869d",
   "metadata": {},
   "outputs": [
    {
     "data": {
      "text/plain": [
       "TrES-2 b       30\n",
       "GJ 436 b       20\n",
       "HD 209458 b    19\n",
       "HAT-P-7 b      19\n",
       "Kepler-10 b    19\n",
       "               ..\n",
       "HD 216520 c     1\n",
       "HD 215497 c     1\n",
       "HD 215152 e     1\n",
       "HD 215152 d     1\n",
       "HD 176986 b     1\n",
       "Name: pl_name, Length: 5054, dtype: int64"
      ]
     },
     "execution_count": 3,
     "metadata": {},
     "output_type": "execute_result"
    }
   ],
   "source": [
    "duplicate_count = planet_names.value_counts()\n",
    "duplicate_count"
   ]
  },
  {
   "cell_type": "code",
   "execution_count": 4,
   "id": "56c32491",
   "metadata": {},
   "outputs": [],
   "source": [
    "df.sort_values('disc_pubdate', ascending=True)\n",
    "\n",
    "df = df.drop_duplicates(subset=['pl_name'], keep='last')\n",
    "\n",
    "df.reset_index(drop=True, inplace=True)"
   ]
  },
  {
   "cell_type": "markdown",
   "id": "bd631449",
   "metadata": {},
   "source": [
    "### Removal of controversial flags\n"
   ]
  },
  {
   "cell_type": "markdown",
   "id": "b23f408d",
   "metadata": {},
   "source": [
    "After wiping out entries of duplicate exoplanets with  outdated publication dates, we ventured to further our process of elimination by removing entries with a controversial flag of 1. Controversial flags are denoted by the term pl_controv_flag, by which they are represented in boolean values of either 0 or 1. When an exoplanet has a controversial flag of 0, then it is considered to be a confirmed planet, making it a potential contender for being capable of sustaining human life. However, if an exoplanet has a controversial flag of 1, then its existence has been questioned in the past - making it not completely confirmed. "
   ]
  },
  {
   "cell_type": "code",
   "execution_count": 5,
   "id": "96e13d10",
   "metadata": {},
   "outputs": [],
   "source": [
    "num_controv_flags = df['pl_controv_flag']\n",
    "df = df.loc[df['pl_controv_flag'] != 1]\n",
    "\n",
    "df.reset_index(drop=True, inplace=True)"
   ]
  },
  {
   "cell_type": "markdown",
   "id": "60880a75",
   "metadata": {},
   "source": [
    "## CHZ Process"
   ]
  },
  {
   "cell_type": "markdown",
   "id": "660b9f61",
   "metadata": {},
   "source": [
    "Through our CHZ process, we eliminate all the planets that are not within our circumstellar habitable zone. Amid our process, we consider various factors such as the stellar type, planetary luminosity, bolometric lumniocity, absolute magnitude, semi minor/major axis, and more. "
   ]
  },
  {
   "cell_type": "markdown",
   "id": "f35aac65",
   "metadata": {},
   "source": [
    "### Luminosity and absolute magnitude"
   ]
  },
  {
   "cell_type": "markdown",
   "id": "97cf4530",
   "metadata": {},
   "source": [
    "After de-duplicating the dataset and removing planets with controversial flags, we were ready to perform the CHZ calculations. The stellar luminosity was the core of these calculations because it was needed to determine the inner and outer bounds of the CHZ. \n",
    "\n",
    "The values for stellar luminosity in the dataset were represented as logarithms of their actual values, so if there was a value for the luminosity of the host star of an exoplanet, we had to raise 10 to the power of that value to determine the host star’s luminosity (in solar luminosities), as shown in Figure 1.\n",
    "\n",
    "While performing this calculation, we found that many planets had null values for their host star’s luminosity. Therefore, we used the Stefan-Boltzmann law to calculate the luminosity of a host star if it did not already have a value for its luminosity. However, the Stefan-Boltzmann law required values for stellar radius and stellar temperature, so if a host star’s luminosity and at least one of its radius and temperature values were null, there was no possible way to determine its luminosity. There were 594 exoplanets for which the aforementioned conditions were true, so we had to remove them from the dataset. However, this does not mean that the removed exoplanets are not habitable; we simply could not determine their habitability because they were missing too many values in the dataset. "
   ]
  },
  {
   "cell_type": "code",
   "execution_count": 6,
   "id": "f48364f0",
   "metadata": {},
   "outputs": [
    {
     "name": "stderr",
     "output_type": "stream",
     "text": [
      "C:\\Users\\shobh\\AppData\\Local\\Temp\\ipykernel_11760\\1353617133.py:8: SettingWithCopyWarning: \n",
      "A value is trying to be set on a copy of a slice from a DataFrame\n",
      "\n",
      "See the caveats in the documentation: https://pandas.pydata.org/pandas-docs/stable/user_guide/indexing.html#returning-a-view-versus-a-copy\n",
      "  df['st_lum'][i] = 10**(df['st_lum'][i])\n",
      "C:\\Users\\shobh\\AppData\\Local\\Temp\\ipykernel_11760\\1353617133.py:17: SettingWithCopyWarning: \n",
      "A value is trying to be set on a copy of a slice from a DataFrame\n",
      "\n",
      "See the caveats in the documentation: https://pandas.pydata.org/pandas-docs/stable/user_guide/indexing.html#returning-a-view-versus-a-copy\n",
      "  df['st_lum'][i] = (df['st_rad'][i]**2) * ((df['st_teff'][i]/5778)**4)\n"
     ]
    }
   ],
   "source": [
    "for i in range(0, len(df)):\n",
    "\n",
    "    # The values for luminosity in the dataset are represented as logs, so\n",
    "    # if there is a value, the actual luminosity (in solar luminosities)\n",
    "    # is 10 to the power of that value\n",
    "\n",
    "    if pd.notna(df['st_lum'][i]):\n",
    "        df['st_lum'][i] = 10**(df['st_lum'][i])\n",
    "\n",
    "    # If there's not a luminosity value, but there are stellar radius and\n",
    "    # temperature values, the luminosity can be calculated using the\n",
    "    # Stefan-Boltzmann law, with all untis in terms of the Sun's physical\n",
    "    # parameters (the Sun's temperature is 5778 K and the stellar radius is\n",
    "    # already in terms of the Sun's radius)\n",
    "\n",
    "    if ((pd.isna(df['st_lum'][i])) & ((pd.notna(df['st_teff'][i])) & (pd.notna(df['st_rad'][i])))):\n",
    "        df['st_lum'][i] = (df['st_rad'][i]**2) * ((df['st_teff'][i]/5778)**4)\n",
    "\n",
    "    # Otherwise, at least the luminosity and at least one of the stellar radius\n",
    "    # and stellar temperature are missing, so it is impossible to calculate\n",
    "    # the star's luminosity\n",
    "\n",
    "    else:\n",
    "        pass\n",
    "\n",
    "# After the luminosity calculations have been performed,\n",
    "# planets with no values for their star's luminosity must be removed\n",
    "\n",
    "df = df.loc[pd.notna(df['st_lum'])]\n",
    "\n",
    "df.reset_index(drop=True, inplace=True)\n",
    "\n",
    "# Creating a new column for absolute magnitude, based on the relation\n",
    "# between absolute magnitude and luminosity (see Wikipedia page)\n",
    "\n",
    "df['st_abs_mag'] = 4.74 + (-2.5*np.log10(df['st_lum']))"
   ]
  },
  {
   "cell_type": "markdown",
   "id": "580bebd1",
   "metadata": {},
   "source": [
    "### Calculation of Bolometric Magnitude and Luminosity Based on Stellar Temperature / Spectral Class"
   ]
  },
  {
   "cell_type": "markdown",
   "id": "a1fadc0c",
   "metadata": {},
   "source": [
    "The inner and outer bounds of the CHZ depend on the bolometric luminosity, not just standard stellar luminosity. Bolometric luminosity is a star’s luminosity across all wavelengths, as opposed to a star’s luminosity when viewed in a particular band. The definition for bolometric magnitude follows similarly. The absolute magnitude of each star determined above was the visual absolute magnitude. To determine the bolometric magnitude and then the bolometric luminosity, a bolometric correction must be added to the visual absolute magnitude. The bolometric correction depends on a star’s spectral class (or temperature). Once we determined the bolometric magnitude for each host star, we were able to calculate the bolometric luminosity of each host star using a rearranged form of Equation 1, as shown below. "
   ]
  },
  {
   "cell_type": "code",
   "execution_count": 7,
   "id": "1bb1561f",
   "metadata": {},
   "outputs": [
    {
     "name": "stderr",
     "output_type": "stream",
     "text": [
      "C:\\Users\\shobh\\AppData\\Local\\Temp\\ipykernel_11760\\4064999246.py:23: SettingWithCopyWarning: \n",
      "A value is trying to be set on a copy of a slice from a DataFrame\n",
      "\n",
      "See the caveats in the documentation: https://pandas.pydata.org/pandas-docs/stable/user_guide/indexing.html#returning-a-view-versus-a-copy\n",
      "  df['bol_mag'][i] = df['st_abs_mag'][i] + BC\n"
     ]
    }
   ],
   "source": [
    "df['st_spectype'] = df['st_spectype'].astype(str)\n",
    "\n",
    "df['bol_mag'] = 0\n",
    "\n",
    "# The for loop below adds a bolometric magnitude for the host star of each planet\n",
    "# BC is the bolometric correction, which is used to convert from absolute magnitude\n",
    "# (st_abs_mag) to bolometric magnitude\n",
    "\n",
    "for i in range(0, len(df)):\n",
    "    BC = 0\n",
    "    if (df['st_teff'][i] >= 2400 and df['st_teff'][i] <= 3700) or df['st_spectype'][i][0] == 'M':\n",
    "        BC = -2.0\n",
    "    elif (df['st_teff'][i] >= 3700 and df['st_teff'][i] <= 5200) or df['st_spectype'][i][0] == 'K':\n",
    "        BC = -0.8\n",
    "    elif (df['st_teff'][i] >= 5200 and df['st_teff'][i] <= 6000) or df['st_spectype'][i][0] == 'G':\n",
    "        BC = -0.4\n",
    "    elif (df['st_teff'][i] >= 6000 and df['st_teff'][i] <= 7500) or df['st_spectype'][i][0] == 'F':\n",
    "        BC = -0.15\n",
    "    elif (df['st_teff'][i] >= 7500 and df['st_teff'][i] <= 10000) or df['st_spectype'][i][0] == 'A':\n",
    "        BC = -0.3\n",
    "    elif (df['st_teff'][i] >= 10000 and df['st_teff'][i] <= 30000) or df['st_spectype'][i][0] == 'B':\n",
    "        BC = -2.0\n",
    "    df['bol_mag'][i] = df['st_abs_mag'][i] + BC\n",
    "\n",
    "# Creating a new column for BOLOMETRIC luminosity, based on BOLOMETRIC Magnitude\n",
    "# (This is different from st_lum and st_abs_mag)\n",
    "# The bolometric luminosity must be used for the CHZ calculations\n",
    "# Once again, this formula can be found on Wikipedia\n",
    "\n",
    "df['bol_lum'] = 10**((df['bol_mag']-4.74)/-2.5)\n",
    "\n"
   ]
  },
  {
   "cell_type": "markdown",
   "id": "3841364d",
   "metadata": {},
   "source": [
    "### Determining habitability"
   ]
  },
  {
   "cell_type": "markdown",
   "id": "0d20075e",
   "metadata": {},
   "source": [
    "Once we calculated the bolometric luminosity for each host star, we were able to determine the inner and outer bounds of the CHZ, in AU, for each host star using Equations 2 and 3 below (taken from Tom Morris’s paper). \n",
    "\n",
    "We then checked if the exoplanet’s average orbiting distance around its host star was within the CHZ bounds of its host star. The average orbiting distance is dependent on the eccentricity of the orbit; if the eccentricity is small, the semi-major axis is a good approximation of the average orbiting distance, but if the eccentricity is large, the approximation breaks down. We decided that if the eccentricity of an exoplanet’s orbit was less than or equal to 0.2, the semi-major axis would be a good approximation of the exoplanet’s average orbiting distance. If the eccentricity was greater than 0.2, we used Equation 3 for the average orbiting distance, in which dₐᵥ is the mean distance averaged over time, a is the semi-major axis, and e is the eccentricity. If there was no value for the semi-major axis of a planet’s orbit, but there was a value for its orbital period, we used Kepler’s 3rd Law (Equation 5) to determine the semi-major axis, where T was the orbital period in years, a was the semi-major axis in AU, and M was the mass of the host star in solar masses. If the average orbiting distance of an exoplanet was within the CHZ bounds of its host star, we considered it to be habitable. If the eccentricity value for an exoplanet was null or the values for its semi-major axis, orbital period, and host star’s mass were null, we could not determine the habitability of the exoplanet. "
   ]
  },
  {
   "cell_type": "code",
   "execution_count": 8,
   "id": "55ecda92",
   "metadata": {},
   "outputs": [
    {
     "name": "stderr",
     "output_type": "stream",
     "text": [
      "C:\\Users\\shobh\\AppData\\Local\\Temp\\ipykernel_11760\\2449040735.py:32: SettingWithCopyWarning: \n",
      "A value is trying to be set on a copy of a slice from a DataFrame\n",
      "\n",
      "See the caveats in the documentation: https://pandas.pydata.org/pandas-docs/stable/user_guide/indexing.html#returning-a-view-versus-a-copy\n",
      "  df['Habitable'][i] = 'No'\n",
      "C:\\Users\\shobh\\AppData\\Local\\Temp\\ipykernel_11760\\2449040735.py:44: SettingWithCopyWarning: \n",
      "A value is trying to be set on a copy of a slice from a DataFrame\n",
      "\n",
      "See the caveats in the documentation: https://pandas.pydata.org/pandas-docs/stable/user_guide/indexing.html#returning-a-view-versus-a-copy\n",
      "  df['Habitable'][i] = 'No'\n",
      "C:\\Users\\shobh\\AppData\\Local\\Temp\\ipykernel_11760\\2449040735.py:82: SettingWithCopyWarning: \n",
      "A value is trying to be set on a copy of a slice from a DataFrame\n",
      "\n",
      "See the caveats in the documentation: https://pandas.pydata.org/pandas-docs/stable/user_guide/indexing.html#returning-a-view-versus-a-copy\n",
      "  df['Habitable'][i] = 'CND'\n",
      "C:\\Users\\shobh\\AppData\\Local\\Temp\\ipykernel_11760\\2449040735.py:61: SettingWithCopyWarning: \n",
      "A value is trying to be set on a copy of a slice from a DataFrame\n",
      "\n",
      "See the caveats in the documentation: https://pandas.pydata.org/pandas-docs/stable/user_guide/indexing.html#returning-a-view-versus-a-copy\n",
      "  df['pl_orbsmax'][i] = np.cbrt((orb_per_year**2)*df['st_mass'][i])\n",
      "C:\\Users\\shobh\\AppData\\Local\\Temp\\ipykernel_11760\\2449040735.py:76: SettingWithCopyWarning: \n",
      "A value is trying to be set on a copy of a slice from a DataFrame\n",
      "\n",
      "See the caveats in the documentation: https://pandas.pydata.org/pandas-docs/stable/user_guide/indexing.html#returning-a-view-versus-a-copy\n",
      "  df['Habitable'][i] = 'No'\n",
      "C:\\Users\\shobh\\AppData\\Local\\Temp\\ipykernel_11760\\2449040735.py:68: SettingWithCopyWarning: \n",
      "A value is trying to be set on a copy of a slice from a DataFrame\n",
      "\n",
      "See the caveats in the documentation: https://pandas.pydata.org/pandas-docs/stable/user_guide/indexing.html#returning-a-view-versus-a-copy\n",
      "  df['Habitable'][i] = 'No'\n",
      "C:\\Users\\shobh\\AppData\\Local\\Temp\\ipykernel_11760\\2449040735.py:41: SettingWithCopyWarning: \n",
      "A value is trying to be set on a copy of a slice from a DataFrame\n",
      "\n",
      "See the caveats in the documentation: https://pandas.pydata.org/pandas-docs/stable/user_guide/indexing.html#returning-a-view-versus-a-copy\n",
      "  df['Habitable'][i] = 'Yes'\n",
      "C:\\Users\\shobh\\AppData\\Local\\Temp\\ipykernel_11760\\2449040735.py:29: SettingWithCopyWarning: \n",
      "A value is trying to be set on a copy of a slice from a DataFrame\n",
      "\n",
      "See the caveats in the documentation: https://pandas.pydata.org/pandas-docs/stable/user_guide/indexing.html#returning-a-view-versus-a-copy\n",
      "  df['Habitable'][i] = 'Yes'\n",
      "C:\\Users\\shobh\\AppData\\Local\\Temp\\ipykernel_11760\\2449040735.py:65: SettingWithCopyWarning: \n",
      "A value is trying to be set on a copy of a slice from a DataFrame\n",
      "\n",
      "See the caveats in the documentation: https://pandas.pydata.org/pandas-docs/stable/user_guide/indexing.html#returning-a-view-versus-a-copy\n",
      "  df['Habitable'][i] = 'Yes'\n"
     ]
    }
   ],
   "source": [
    "# Defining the inner boundary of the CHZ (formula from Tom Morris)\n",
    "\n",
    "df['inner_CHZ'] = np.sqrt(df['bol_lum']/1.1)\n",
    "\n",
    "# Defining the outer boundary of the CHZ (formula from Tom Morris)\n",
    "\n",
    "df['outer_CHZ'] = np.sqrt(df['bol_lum']/0.53)\n",
    "\n",
    "# Creating a new column to determine if planets are habitable\n",
    "\n",
    "df['Habitable'] = None\n",
    "\n",
    "planets = []\n",
    "\n",
    "for i in range(0, len(df)):\n",
    "\n",
    "    # First if statement checks if there are values for the planet's\n",
    "    # semi-major axis and eccentricity\n",
    "\n",
    "    if ((pd.notna(df['pl_orbsmax'][i])) & (pd.notna(df['pl_orbeccen'][i]))):\n",
    "\n",
    "        # If the eccentricity is less than 0.2, the average distance from the planet\n",
    "        # to its star can be approximated by its semi-major axis\n",
    "        # If the average distance is in the CHZ range, we say the planet is\n",
    "        # habitable\n",
    "\n",
    "        if df['pl_orbeccen'][i] <= 0.2:\n",
    "            if ((df['pl_orbsmax'][i] >= df['inner_CHZ'][i]) & (df['pl_orbsmax'][i] <= df['outer_CHZ'][i])):\n",
    "                df['Habitable'][i] = 'Yes'\n",
    "                planets.append(df['pl_name'][i])\n",
    "            else:\n",
    "                df['Habitable'][i] = 'No'\n",
    "\n",
    "        # If the eccentricity is greater than 0.2, we must use a formula for\n",
    "        # the average distance. TODO: CITE SOURCE!! . and then check if this\n",
    "        # average distance is in the CHZ range\n",
    "\n",
    "        else:\n",
    "            avg_dist = df['pl_orbsmax'][i] * (1+((df['pl_orbeccen'][i]**2)/2))\n",
    "            if ((avg_dist >= df['inner_CHZ'][i]) & (avg_dist <= df['outer_CHZ'][i])):\n",
    "                df['Habitable'][i] = 'Yes'\n",
    "                planets.append(df['pl_name'][i])\n",
    "            else:\n",
    "                df['Habitable'][i] = 'No'\n",
    "\n",
    "    # If there is no value for the planet's semi-major axis, but there are values\n",
    "    # for its orbital period, eccentricity, and the star's mass, we can use\n",
    "    # Kepler's 3rd Law to calculate its semi-major axis, and then perform\n",
    "    # the eccentricity check again to determine the average orbiting distance\n",
    "    # and then determine if this average distance is in the CHZ\n",
    "\n",
    "    elif ((pd.isna(df['pl_orbsmax'][i])) & (pd.notna(df['pl_orbeccen'][i])) & (pd.notna(df['pl_orbper'][i])) & (pd.notna(df['st_mass'][i]))):\n",
    "\n",
    "        # Convering the orbital period from days to years\n",
    "\n",
    "        orb_per_year = df['pl_orbper'][i]/365\n",
    "\n",
    "        # Using Kepler's Third Law: T^2/a^3 = 1/M, with T in years, a in AU\n",
    "        # and M in solar masses, so a = cubert(T^2 * M)\n",
    "\n",
    "        df['pl_orbsmax'][i] = np.cbrt((orb_per_year**2)*df['st_mass'][i])\n",
    "\n",
    "        if df['pl_orbeccen'][i] <= 0.2:\n",
    "            if ((df['pl_orbsmax'][i] >= df['inner_CHZ'][i]) & (df['pl_orbsmax'][i] <= df['outer_CHZ'][i])):\n",
    "                df['Habitable'][i] = 'Yes'\n",
    "                planets.append(df['pl_name'][i])\n",
    "            else:\n",
    "                df['Habitable'][i] = 'No'\n",
    "\n",
    "        else:\n",
    "            avg_dist = df['pl_orbsmax'][i] * (1+((df['pl_orbeccen'][i]**2)/2))\n",
    "            if ((avg_dist >= df['inner_CHZ'][i]) & (avg_dist <= df['outer_CHZ'][i])):\n",
    "                df['Habitable'][i] = 'Yes'\n",
    "                planets.append(df['pl_name'][i])\n",
    "            else:\n",
    "                df['Habitable'][i] = 'No'\n",
    "\n",
    "    # Otherwise, there are too many values missing to determine if the planet\n",
    "    # is habitable. CND = Can Not Determine\n",
    "\n",
    "    else:\n",
    "        df['Habitable'][i] = 'CND'\n",
    "\n",
    "# print(planets, len(planets))"
   ]
  },
  {
   "cell_type": "markdown",
   "id": "a524a2b0",
   "metadata": {},
   "source": [
    "## Visualizing our data"
   ]
  },
  {
   "cell_type": "markdown",
   "id": "7c27cef0",
   "metadata": {},
   "source": [
    "### Percent of Controversial Flags"
   ]
  },
  {
   "cell_type": "code",
   "execution_count": null,
   "id": "cd40ec07",
   "metadata": {},
   "outputs": [],
   "source": []
  },
  {
   "cell_type": "markdown",
   "id": "dd54b16a",
   "metadata": {},
   "source": [
    "### Duplicate Values"
   ]
  },
  {
   "cell_type": "code",
   "execution_count": 9,
   "id": "17a09bb5",
   "metadata": {},
   "outputs": [
    {
     "data": {
      "image/png": "[encoded data removed]",
      "text/plain": [
       "<Figure size 432x288 with 1 Axes>"
      ]
     },
     "metadata": {},
     "output_type": "display_data"
    }
   ],
   "source": [
    "num_duplicates = planet_names.duplicated().sum()\n",
    "total_planets = len(planet_names)\n",
    "num_not_duplicated = total_planets - num_duplicates\n",
    "\n",
    "labels = ['Duplicates', 'Not Duplicates']\n",
    "pcnt_duplicates = num_duplicates / total_planets\n",
    "pcnt_non_duplicates = num_not_duplicated / total_planets\n",
    "\n",
    "sizes = [pcnt_duplicates, pcnt_non_duplicates]\n",
    "explode = (0.1, 0)\n",
    "fig1, ax1 = plt.subplots()\n",
    "ax1.pie(sizes, labels=labels, explode=explode, autopct='%1.1f%%',\n",
    "        shadow=True, startangle=90)\n",
    "ax1.axis('equal')  # Equal aspect ratio ensures that pie is drawn as a circle.\n",
    "\n",
    "plt.show()"
   ]
  },
  {
   "cell_type": "markdown",
   "id": "8dc842f3",
   "metadata": {},
   "source": [
    "### Pie Chart of Habitability"
   ]
  },
  {
   "cell_type": "code",
   "execution_count": 10,
   "id": "1a413510",
   "metadata": {},
   "outputs": [
    {
     "data": {
      "image/png": "[encoded data removed]",
      "text/plain": [
       "<Figure size 720x720 with 1 Axes>"
      ]
     },
     "metadata": {},
     "output_type": "display_data"
    }
   ],
   "source": [
    "nums = [61, 2417, 2552]\n",
    "labels = ['Habitable', 'Not Habitable', 'CND']\n",
    "explode=[0.4,0,0]\n",
    "fig, ax = plt.subplots(figsize=(10,10))\n",
    "ax.pie(nums, labels=labels,autopct='%1.2f%%',pctdistance=0.9,explode=explode)\n",
    "plt.title('Habitability of Exoplanets in NASA Exoplanet Archive',size=20)\n",
    "plt.show()"
   ]
  },
  {
   "cell_type": "code",
   "execution_count": 11,
   "id": "89b12eed",
   "metadata": {},
   "outputs": [],
   "source": [
    "df2 = df.loc[df['Habitable']=='Yes']"
   ]
  },
  {
   "cell_type": "markdown",
   "id": "df5b572c",
   "metadata": {},
   "source": [
    "### Histogram of Eccentricity Values of Habitable Exoplanets"
   ]
  },
  {
   "cell_type": "code",
   "execution_count": 12,
   "id": "5dd8d493",
   "metadata": {},
   "outputs": [
    {
     "data": {
      "image/png": "[encoded data removed]",
      "text/plain": [
       "<Figure size 576x216 with 1 Axes>"
      ]
     },
     "metadata": {
      "needs_background": "light"
     },
     "output_type": "display_data"
    }
   ],
   "source": [
    "bins = np.linspace(0,1,11)\n",
    "plt.figure(figsize=(8,3))\n",
    "plt.hist(df2['pl_orbeccen'],bins=bins,ec='black')\n",
    "plt.xticks(ticks=bins)\n",
    "plt.title('Eccentricity Values of Habitable Exoplanets')\n",
    "plt.xlabel('Eccentricity')\n",
    "plt.ylabel('Frequency')\n",
    "plt.show()"
   ]
  },
  {
   "cell_type": "markdown",
   "id": "333f03db",
   "metadata": {},
   "source": [
    "### Histogram of Orbital Period Values of Habitable Exoplanets"
   ]
  },
  {
   "cell_type": "code",
   "execution_count": 13,
   "id": "296f93e2",
   "metadata": {},
   "outputs": [
    {
     "data": {
      "image/png": "[encoded data removed]",
      "text/plain": [
       "<Figure size 1008x360 with 1 Axes>"
      ]
     },
     "metadata": {
      "needs_background": "light"
     },
     "output_type": "display_data"
    }
   ],
   "source": [
    "plt.figure(figsize=(14,5))\n",
    "bins = np.linspace(0,2500,21)\n",
    "plt.hist(df2['pl_orbper'],bins=bins,ec='black')\n",
    "plt.title('Orbital Period Values of Habitable Exoplanets')\n",
    "plt.xticks(bins)\n",
    "plt.xlabel('Orbital Period (Days)')\n",
    "plt.ylabel('Frequency')\n",
    "plt.show()"
   ]
  },
  {
   "cell_type": "markdown",
   "id": "1ec70ec3",
   "metadata": {},
   "source": [
    "### Histogram of Semi-Major Axis Values of Habitable Exoplanets"
   ]
  },
  {
   "cell_type": "code",
   "execution_count": 14,
   "id": "0ca2748b",
   "metadata": {
    "scrolled": true
   },
   "outputs": [
    {
     "data": {
      "image/png": "[encoded data removed]",
      "text/plain": [
       "<Figure size 576x216 with 1 Axes>"
      ]
     },
     "metadata": {
      "needs_background": "light"
     },
     "output_type": "display_data"
    }
   ],
   "source": [
    "plt.figure(figsize=(8,3))\n",
    "bins=np.linspace(0,7,8)\n",
    "plt.hist(df2['pl_orbsmax'],bins=bins,ec='black')\n",
    "plt.title('Semi-Major Axis Values of Habitable Exoplanets')\n",
    "plt.xticks(bins)\n",
    "plt.xlabel('Semi-Major Axis (AU)')\n",
    "plt.ylabel('Frequency')\n",
    "plt.show()"
   ]
  },
  {
   "cell_type": "code",
   "execution_count": 15,
   "id": "82124547",
   "metadata": {},
   "outputs": [
    {
     "data": {
      "text/plain": [
       "0        No\n",
       "1        No\n",
       "2        No\n",
       "3        No\n",
       "4        No\n",
       "       ... \n",
       "4431    CND\n",
       "4432     No\n",
       "4433     No\n",
       "4434     No\n",
       "4435     No\n",
       "Name: Habitable, Length: 4436, dtype: object"
      ]
     },
     "execution_count": 15,
     "metadata": {},
     "output_type": "execute_result"
    }
   ],
   "source": [
    "planets_to_be_determined = df[\"Habitable\"]\n",
    "planets_to_be_determined"
   ]
  },
  {
   "cell_type": "markdown",
   "id": "9707c5a6",
   "metadata": {},
   "source": [
    "# Exporting our data"
   ]
  },
  {
   "cell_type": "code",
   "execution_count": 16,
   "id": "dd6bb429",
   "metadata": {},
   "outputs": [
    {
     "name": "stdout",
     "output_type": "stream",
     "text": [
      "BD-06 1339 c\n",
      "GJ 3293 c\n",
      "GJ 3323 c\n",
      "GJ 876 c\n",
      "HD 10180 g\n",
      "HD 103891 b\n",
      "HD 10442 b\n",
      "HD 10697 b\n",
      "HD 109286 b\n",
      "HD 114729 b\n",
      "HD 125612 b\n",
      "HD 128356 b\n",
      "HD 132406 b\n",
      "HD 141937 b\n",
      "HD 142415 b\n",
      "HD 147513 b\n",
      "HD 159868 b\n",
      "HD 16175 b\n",
      "HD 163607 c\n",
      "HD 165155 b\n",
      "HD 17674 b\n",
      "HD 18015 b\n",
      "HD 181720 b\n",
      "HD 183263 b\n",
      "HD 190647 b\n",
      "HD 213240 b\n",
      "HD 214823 b\n",
      "HD 216437 b\n",
      "HD 219415 b\n",
      "HD 221585 b\n",
      "HD 222582 b\n",
      "HD 224538 b\n",
      "HD 23079 b\n",
      "HD 23127 b\n",
      "HD 34445 b\n",
      "HD 38529 c\n",
      "HD 4113 b\n",
      "HD 43197 b\n",
      "HD 65216 b\n",
      "HD 7199 b\n",
      "HD 9174 b\n",
      "HIP 5158 b\n",
      "KELT-6 c\n",
      "KIC 9663113 b\n",
      "Kapteyn c\n",
      "Kepler-1318 b\n",
      "Kepler-16 b\n",
      "Kepler-1600 b\n",
      "Kepler-1630 b\n",
      "Kepler-1647 b\n",
      "Kepler-1649 c\n",
      "Kepler-1704 b\n",
      "Kepler-1708 b\n",
      "Kepler-174 d\n",
      "Kepler-1868 b\n",
      "Kepler-440 b\n",
      "Kepler-454 c\n",
      "NY Vir c\n",
      "WASP-41 c\n",
      "WASP-47 c\n",
      "Wolf 1061 d\n"
     ]
    }
   ],
   "source": [
    "for planet in planets:\n",
    "    print(planet)\n",
    "\n",
    "with open('../data/habitable-planets.csv', 'w', newline='') as csvfile:\n",
    "    fieldnames = ['number', 'pl_name']\n",
    "    planet_count = 0\n",
    "\n",
    "    writer = csv.DictWriter(csvfile, fieldnames=fieldnames)\n",
    "    writer.writeheader()\n",
    "\n",
    "    for planet in planets:\n",
    "        planet_count += 1\n",
    "        writer.writerow({'number': planet_count, 'pl_name': planet})"
   ]
  }
 ],
 "metadata": {
  "kernelspec": {
   "display_name": "Python 3 (ipykernel)",
   "language": "python",
   "name": "python3"
  },
  "language_info": {
   "codemirror_mode": {
    "name": "ipython",
    "version": 3
   },
   "file_extension": ".py",
   "mimetype": "text/x-python",
   "name": "python",
   "nbconvert_exporter": "python",
   "pygments_lexer": "ipython3",
   "version": "3.10.5"
  },
  "vscode": {
   "interpreter": {
    "hash": "d688df3862cb7e85a9e692ebc641fab133609ea0665f4b4b1480645ecc056e29"
   }
  }
 },
 "nbformat": 4,
 "nbformat_minor": 5
}
